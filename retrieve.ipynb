{
 "metadata": {
  "language_info": {
   "codemirror_mode": {
    "name": "ipython",
    "version": 3
   },
   "file_extension": ".py",
   "mimetype": "text/x-python",
   "name": "python",
   "nbconvert_exporter": "python",
   "pygments_lexer": "ipython3",
   "version": "3.7.3-final"
  },
  "orig_nbformat": 2,
  "kernelspec": {
   "name": "python_defaultSpec_1599784908294",
   "display_name": "Python 3.7.3 64-bit"
  }
 },
 "nbformat": 4,
 "nbformat_minor": 2,
 "cells": [
  {
   "cell_type": "code",
   "execution_count": 113,
   "metadata": {
    "tags": []
   },
   "outputs": [
    {
     "output_type": "stream",
     "name": "stdout",
     "text": "[{'username': 'Constanza', 'email': 'cybarrat@gmail.com'}]\n"
    }
   ],
   "source": [
    "import json\n",
    "import pandas as pd\n",
    "\n",
    "userList = [{\"username\": 'userName', \"email\": 'email'}]\n",
    "\n",
    "listString = json.dumps(userList)\n",
    "\n",
    "def foo(jsonstring):\n",
    "  lst = json.loads(jsonstring)\n",
    "  lst[0][\"username\"] = \"Constanza\"\n",
    "  lst[0][\"email\"] = \"cybarrat@gmail.com\"\n",
    "  return lst\n",
    "\n",
    "newList = foo(listString)\n",
    "\n",
    "print(newList)"
   ]
  },
  {
   "cell_type": "code",
   "execution_count": 114,
   "metadata": {},
   "outputs": [],
   "source": [
    "def getColScoreGapOffense(scoreGap):\n",
    "    #----------------------------------------------------------------------------------\n",
    "    # scoreGap\n",
    "    #\tLosing big\t<-3\n",
    "    # 0>=\tTie/Losing small\t>=-3\n",
    "    # 7>=\tWinning small\t>0\n",
    "\t# Winning big\t>7\n",
    "    # Regresar escenario = la columna que corresponde al scoregap\n",
    "    if int(scoreGap) > 7:\n",
    "        return 'Winning Big'\n",
    "    elif int(scoreGap) > 0:\n",
    "        return 'Winning Small'\n",
    "    elif int(scoreGap) >= -3:\n",
    "        return 'Tie/Losing Small'\n",
    "    else:\n",
    "        return 'Losing Big'\n",
    "\n",
    "def getColScoreGapDefense(scoreGap):\n",
    "    #----------------------------------------------------------------------------------\n",
    "    # scoreGap\n",
    "    #\tLosing big\t<-3\n",
    "    # 0>=\tTie/Losing small\t>=-3\n",
    "    # 7>=\tWinning small\t>0\n",
    "\t# Winning big\t>7\n",
    "    # Regresar escenario = la columna que corresponde al scoregap\n",
    "    if int(scoreGap) > 7:\n",
    "        return 'Winning Big'\n",
    "    elif int(scoreGap) > 0:\n",
    "        return 'Tie/Winning Small'\n",
    "    elif int(scoreGap) >= -3:\n",
    "        return 'Losing Small'\n",
    "    else:\n",
    "        return 'Losing Big'"
   ]
  },
  {
   "cell_type": "code",
   "execution_count": 115,
   "metadata": {},
   "outputs": [],
   "source": [
    "def getScoreGap(team, scoreGap, year, side):\n",
    "    carpeta = \"/Users/mramosalarcon/Google Drive/Creatividad/DVOA \" + year\n",
    "    if side == \"Offense\":\n",
    "        df_scoreGap = pd.read_csv(carpeta + \"/\" + year + \" DVOA by Score Gap Offense.csv\")\n",
    "        _scoreGapCurrentTeam = df_scoreGap.query('Team == \"' + team + '\"')\n",
    "        _scoreGapCurrentTeam = _scoreGapCurrentTeam[['Team', getColScoreGapOffense(scoreGap), getColScoreGapOffense(scoreGap) + ' Rank', 'Total DVOA']]\n",
    "        _scoreGapCurrentTeam.to_json(r'/Users/mramosalarcon/Documents/CC/scoreGapOffense.json')\n",
    "        return _scoreGapCurrentTeam\n",
    "    else:\n",
    "        df_scoreGap = pd.read_csv(carpeta + \"/\" + year + \" DVOA by Score Gap Defense.csv\")\n",
    "        _scoreGapOpponent = df_scoreGap.query('Team == \"' + team + '\"')\n",
    "        _scoreGapOpponent = _scoreGapOpponent[['Team', getColScoreGapDefense(-scoreGap), getColScoreGapDefense(-scoreGap) + ' Rank', 'Total DVOA']]\n",
    "        _scoreGapOpponent.to_json(r'/Users/mramosalarcon/Documents/CC/scoreGapDefense.json')\n",
    "        return _scoreGapOpponent\n",
    "\n"
   ]
  },
  {
   "cell_type": "code",
   "execution_count": 116,
   "metadata": {},
   "outputs": [],
   "source": [
    "def retrieve(jsoncase):\n",
    "  case = json.loads(jsoncase)\n",
    "  scoreGap = case[0][\"scoregap\"]\n",
    "  quarter = case[0][\"quarter\"]\n",
    "  currentYard = case[0][\"currentYard\"]\n",
    "  currentTeam = case[0][\"currentTeam\"]\n",
    "  opponent = case[0][\"opponent\"]\n",
    "  avgDVOA = case[0][\"optional\"][0][\"avgDVOA\"]\n",
    "\n",
    "  year = case[0][\"year\"]\n",
    "  carpeta = \"/Users/mramosalarcon/Google Drive/Creatividad/DVOA \" + year\n",
    "\n",
    "  #=============================================================================================\n",
    "  _scoreGapCurrentTeam = getScoreGap(currentTeam, int(scoreGap), year, \"Offense\")\n",
    "  \n",
    "  _scoreGapOpponent = getScoreGap(opponent, int(scoreGap), year, \"Defense\")\n",
    "  #=============================================================================================\n",
    "\n",
    "  df_quarter = pd.read_csv(carpeta + \"/\" + year + \" DVOA by Quarters and Halves Offense.csv\")\n",
    "  _quarterCurrentTeam = df_quarter.query('Team == \"' + currentTeam + '\"')\n",
    "  \n",
    "  df_quarter = pd.read_csv(carpeta + \"/\" + year + \" DVOA by Quarters and Halves Defense.csv\")\n",
    "  _quarterOpponent = df_quarter.query('Team == \"' + opponent + '\"')\n",
    "\n",
    "  df_down = pd.read_csv(carpeta + \"/\" + year + \" DVOA by Down and Distance Offense.csv\")\n",
    "  _downCurentTeam = df_down.query('Team == \"' + currentTeam + '\"')\n",
    "  \n",
    "  df_down = pd.read_csv(carpeta + \"/\" + year + \" DVOA by Down and Distance Defense.csv\")\n",
    "  _downOpponent = df_down.query('Team == \"' + opponent + '\"')\n",
    "\n",
    "  df_yard = pd.read_csv(carpeta + \"/\" + year + \" DVOA by Field Zone Offense.csv\")\n",
    "  _yardCurrentTeam = df_yard.query('Team == \"' + currentTeam + '\"')\n",
    "\n",
    "  df_yard = pd.read_csv(carpeta + \"/\" + year + \" DVOA by Field Zone Defense.csv\")\n",
    "  _yardOpponent = df_yard.query('Team == \"' + opponent + '\"')\n",
    "\n",
    "  df_DVOA = pd.read_csv(carpeta + \"/\" + year + \" Team DVOA Ratings Offense.csv\")\n",
    "  _DVOACurrentTeam = df_DVOA.query('Team == \"' + currentTeam + '\"')\n",
    "\n",
    "  df_DVOA = pd.read_csv(carpeta + \"/\" + year + \" Team DVOA Ratings Defense.csv\")\n",
    "  _DVOAOpponent = df_DVOA.query('Team == \"' + opponent + '\"')\n",
    "\n",
    "  return _scoreGapOpponent\n",
    "\n"
   ]
  },
  {
   "cell_type": "code",
   "execution_count": 117,
   "metadata": {
    "tags": []
   },
   "outputs": [
    {
     "output_type": "execute_result",
     "data": {
      "text/plain": "   Team Losing Small  Losing Small Rank Total DVOA\n18  DAL       -0.70%                 17      3.00%",
      "text/html": "<div>\n<style scoped>\n    .dataframe tbody tr th:only-of-type {\n        vertical-align: middle;\n    }\n\n    .dataframe tbody tr th {\n        vertical-align: top;\n    }\n\n    .dataframe thead th {\n        text-align: right;\n    }\n</style>\n<table border=\"1\" class=\"dataframe\">\n  <thead>\n    <tr style=\"text-align: right;\">\n      <th></th>\n      <th>Team</th>\n      <th>Losing Small</th>\n      <th>Losing Small Rank</th>\n      <th>Total DVOA</th>\n    </tr>\n  </thead>\n  <tbody>\n    <tr>\n      <th>18</th>\n      <td>DAL</td>\n      <td>-0.70%</td>\n      <td>17</td>\n      <td>3.00%</td>\n    </tr>\n  </tbody>\n</table>\n</div>"
     },
     "metadata": {},
     "execution_count": 117
    }
   ],
   "source": [
    "case = [{\n",
    "    \"scoregap\": '3', \n",
    "    \"quarter\": '4', \n",
    "    \"timeleft\": '7', \n",
    "    \"currentDown\": '2', \n",
    "    \"yardsLeft1stDown\": '6', \n",
    "    \"home\": '1', \n",
    "    \"currentYard\": '-40', \n",
    "    \"opponent\": 'DAL', \n",
    "    \"currentTeam\": 'DEN', \n",
    "    \"year\": '2019', \n",
    "    \"optional\": [{\n",
    "        \"success\": '1',\n",
    "        \"successFailReason\": 'Test',\n",
    "        \"avgDVOA\": '80'\n",
    "        }]\n",
    "    }]\n",
    "caseList = json.dumps(case)\n",
    "casesRetrieved = retrieve(caseList)\n",
    "casesRetrieved.head()"
   ]
  },
  {
   "cell_type": "code",
   "execution_count": 100,
   "metadata": {},
   "outputs": [
    {
     "output_type": "execute_result",
     "data": {
      "text/plain": "  Team  Losing Big Rank Losing Big  Tie/Losing Small Rank Tie/Losing Small  \\\n0  BAL                6     25.80%                      1           32.30%   \n1  DAL                5     29.10%                      9           12.10%   \n2   KC                2     45.80%                      3           21.80%   \n3   NO                3     40.40%                     11            6.00%   \n4  SEA               12     10.30%                      4           21.50%   \n\n   Winning Small Rank Winning Small  Winning Big Rank Winning Big  \\\n0                   6        24.40%                 4      26.20%   \n1                   1        43.30%                 3      28.50%   \n2                   5        25.50%                 7      18.80%   \n3                   4        26.70%                 2      32.80%   \n4                   2        36.40%                24     -15.70%   \n\n   Late & Close Rank Late & Close  Total DVOA Rank Total DVOA  Unnamed: 13  \\\n0                 11        8.50%                1     27.70%          NaN   \n1                  1       44.60%                2     24.20%          NaN   \n2                  6       11.70%                3     22.80%          NaN   \n3                  3       26.60%                4     21.40%          NaN   \n4                  4       26.50%                5     17.10%          NaN   \n\n  Unnamed: 14 Unnamed: 15 Unnamed: 16  \n0         NaN         NaN         NaN  \n1         NaN         NaN         NaN  \n2         NaN         NaN         NaN  \n3         NaN         NaN         NaN  \n4         NaN         NaN    scoregap  ",
      "text/html": "<div>\n<style scoped>\n    .dataframe tbody tr th:only-of-type {\n        vertical-align: middle;\n    }\n\n    .dataframe tbody tr th {\n        vertical-align: top;\n    }\n\n    .dataframe thead th {\n        text-align: right;\n    }\n</style>\n<table border=\"1\" class=\"dataframe\">\n  <thead>\n    <tr style=\"text-align: right;\">\n      <th></th>\n      <th>Team</th>\n      <th>Losing Big Rank</th>\n      <th>Losing Big</th>\n      <th>Tie/Losing Small Rank</th>\n      <th>Tie/Losing Small</th>\n      <th>Winning Small Rank</th>\n      <th>Winning Small</th>\n      <th>Winning Big Rank</th>\n      <th>Winning Big</th>\n      <th>Late &amp; Close Rank</th>\n      <th>Late &amp; Close</th>\n      <th>Total DVOA Rank</th>\n      <th>Total DVOA</th>\n      <th>Unnamed: 13</th>\n      <th>Unnamed: 14</th>\n      <th>Unnamed: 15</th>\n      <th>Unnamed: 16</th>\n    </tr>\n  </thead>\n  <tbody>\n    <tr>\n      <th>0</th>\n      <td>BAL</td>\n      <td>6</td>\n      <td>25.80%</td>\n      <td>1</td>\n      <td>32.30%</td>\n      <td>6</td>\n      <td>24.40%</td>\n      <td>4</td>\n      <td>26.20%</td>\n      <td>11</td>\n      <td>8.50%</td>\n      <td>1</td>\n      <td>27.70%</td>\n      <td>NaN</td>\n      <td>NaN</td>\n      <td>NaN</td>\n      <td>NaN</td>\n    </tr>\n    <tr>\n      <th>1</th>\n      <td>DAL</td>\n      <td>5</td>\n      <td>29.10%</td>\n      <td>9</td>\n      <td>12.10%</td>\n      <td>1</td>\n      <td>43.30%</td>\n      <td>3</td>\n      <td>28.50%</td>\n      <td>1</td>\n      <td>44.60%</td>\n      <td>2</td>\n      <td>24.20%</td>\n      <td>NaN</td>\n      <td>NaN</td>\n      <td>NaN</td>\n      <td>NaN</td>\n    </tr>\n    <tr>\n      <th>2</th>\n      <td>KC</td>\n      <td>2</td>\n      <td>45.80%</td>\n      <td>3</td>\n      <td>21.80%</td>\n      <td>5</td>\n      <td>25.50%</td>\n      <td>7</td>\n      <td>18.80%</td>\n      <td>6</td>\n      <td>11.70%</td>\n      <td>3</td>\n      <td>22.80%</td>\n      <td>NaN</td>\n      <td>NaN</td>\n      <td>NaN</td>\n      <td>NaN</td>\n    </tr>\n    <tr>\n      <th>3</th>\n      <td>NO</td>\n      <td>3</td>\n      <td>40.40%</td>\n      <td>11</td>\n      <td>6.00%</td>\n      <td>4</td>\n      <td>26.70%</td>\n      <td>2</td>\n      <td>32.80%</td>\n      <td>3</td>\n      <td>26.60%</td>\n      <td>4</td>\n      <td>21.40%</td>\n      <td>NaN</td>\n      <td>NaN</td>\n      <td>NaN</td>\n      <td>NaN</td>\n    </tr>\n    <tr>\n      <th>4</th>\n      <td>SEA</td>\n      <td>12</td>\n      <td>10.30%</td>\n      <td>4</td>\n      <td>21.50%</td>\n      <td>2</td>\n      <td>36.40%</td>\n      <td>24</td>\n      <td>-15.70%</td>\n      <td>4</td>\n      <td>26.50%</td>\n      <td>5</td>\n      <td>17.10%</td>\n      <td>NaN</td>\n      <td>NaN</td>\n      <td>NaN</td>\n      <td>scoregap</td>\n    </tr>\n  </tbody>\n</table>\n</div>"
     },
     "metadata": {},
     "execution_count": 100
    }
   ],
   "source": [
    "df_2019 = pd.read_csv(\"/Users/mramosalarcon/Google Drive/Creatividad/DVOA 2019/2019 DVOA by Score Gap Offense.csv\")\n",
    "df_2019.head()"
   ]
  },
  {
   "cell_type": "code",
   "execution_count": 101,
   "metadata": {
    "tags": []
   },
   "outputs": [
    {
     "output_type": "execute_result",
     "data": {
      "text/plain": "   Team  Losing Big Rank Losing Big  Tie/Losing Small Rank Tie/Losing Small  \\\n25  DEN               24    -13.50%                     21           -6.00%   \n\n    Winning Small Rank Winning Small  Winning Big Rank Winning Big  \\\n25                  11         3.90%                31     -33.60%   \n\n    Late & Close Rank Late & Close  Total DVOA Rank Total DVOA  Unnamed: 13  \\\n25                 19       -6.70%               26    -10.80%          NaN   \n\n   Unnamed: 14 Unnamed: 15 Unnamed: 16  \n25         NaN         NaN         NaN  ",
      "text/html": "<div>\n<style scoped>\n    .dataframe tbody tr th:only-of-type {\n        vertical-align: middle;\n    }\n\n    .dataframe tbody tr th {\n        vertical-align: top;\n    }\n\n    .dataframe thead th {\n        text-align: right;\n    }\n</style>\n<table border=\"1\" class=\"dataframe\">\n  <thead>\n    <tr style=\"text-align: right;\">\n      <th></th>\n      <th>Team</th>\n      <th>Losing Big Rank</th>\n      <th>Losing Big</th>\n      <th>Tie/Losing Small Rank</th>\n      <th>Tie/Losing Small</th>\n      <th>Winning Small Rank</th>\n      <th>Winning Small</th>\n      <th>Winning Big Rank</th>\n      <th>Winning Big</th>\n      <th>Late &amp; Close Rank</th>\n      <th>Late &amp; Close</th>\n      <th>Total DVOA Rank</th>\n      <th>Total DVOA</th>\n      <th>Unnamed: 13</th>\n      <th>Unnamed: 14</th>\n      <th>Unnamed: 15</th>\n      <th>Unnamed: 16</th>\n    </tr>\n  </thead>\n  <tbody>\n    <tr>\n      <th>25</th>\n      <td>DEN</td>\n      <td>24</td>\n      <td>-13.50%</td>\n      <td>21</td>\n      <td>-6.00%</td>\n      <td>11</td>\n      <td>3.90%</td>\n      <td>31</td>\n      <td>-33.60%</td>\n      <td>19</td>\n      <td>-6.70%</td>\n      <td>26</td>\n      <td>-10.80%</td>\n      <td>NaN</td>\n      <td>NaN</td>\n      <td>NaN</td>\n      <td>NaN</td>\n    </tr>\n  </tbody>\n</table>\n</div>"
     },
     "metadata": {},
     "execution_count": 101
    }
   ],
   "source": [
    "_offenseCurrentTeam = df_2019.query('Team == \"DEN\"')\n",
    "_offenseCurrentTeam.head()"
   ]
  },
  {
   "cell_type": "code",
   "execution_count": null,
   "metadata": {},
   "outputs": [],
   "source": []
  }
 ]
}