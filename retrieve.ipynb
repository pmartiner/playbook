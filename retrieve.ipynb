{
 "metadata": {
  "language_info": {
   "codemirror_mode": {
    "name": "ipython",
    "version": 3
   },
   "file_extension": ".py",
   "mimetype": "text/x-python",
   "name": "python",
   "nbconvert_exporter": "python",
   "pygments_lexer": "ipython3",
   "version": "3.7.3-final"
  },
  "orig_nbformat": 2,
  "kernelspec": {
   "name": "python_defaultSpec_1598498539911",
   "display_name": "Python 3.7.3 64-bit"
  }
 },
 "nbformat": 4,
 "nbformat_minor": 2,
 "cells": [
  {
   "cell_type": "code",
   "execution_count": 9,
   "metadata": {
    "tags": []
   },
   "outputs": [
    {
     "output_type": "stream",
     "name": "stdout",
     "text": "[{'username': 'Constanza', 'email': 'cybarrat@gmail.com'}]\n"
    }
   ],
   "source": [
    "import json\n",
    "import pandas as pd\n",
    "\n",
    "userList = [{\"username\": 'userName', \"email\": 'email'}]\n",
    "\n",
    "listString = json.dumps(userList)\n",
    "\n",
    "def foo(jsonstring):\n",
    "  lst = json.loads(jsonstring)\n",
    "  lst[0][\"username\"] = \"Constanza\"\n",
    "  lst[0][\"email\"] = \"cybarrat@gmail.com\"\n",
    "  return lst\n",
    "\n",
    "newList = foo(listString)\n",
    "\n",
    "print(newList)"
   ]
  },
  {
   "cell_type": "code",
   "execution_count": 12,
   "metadata": {},
   "outputs": [],
   "source": [
    "def retrieve(jsoncase):\n",
    "  case = json.loads(jsoncase)\n",
    "  scoregap = case[0][\"scoregap\"]\n",
    "  quarter = case[0][\"quarter\"]\n",
    "  currentYard = case[0][\"currentYard\"]\n",
    "  currentTeam = case[0][\"currentTeam\"]\n",
    "  opponent = case[0][\"opponent\"]\n",
    "  avgDVOA = case[0][\"optional\"][0][\"avgDVOA\"]\n",
    "\n",
    "  year = case[0][\"year\"]\n",
    "  carpeta = \"/Users/mramosalarcon/Google Drive/Creatividad/DVOA \" + year\n",
    "\n",
    "  df_scoregap = pd.read_csv(carpeta + \"/\" + year + \" DVOA by Score Gap Offense.csv\")\n",
    "  _scoregapCurrentTeam = df_scoregap.query('Team == \"' + currentTeam + '\"')\n",
    "\n",
    "  \n",
    "  df_scoregap = pd.read_csv(carpeta + \"/\" + year + \" DVOA by Score Gap Defense.csv\")\n",
    "  _scoregapOpponent = df_scoregap.query('Team == \"' + opponent + '\"')\n",
    "\n",
    "  df_quarter = pd.read_csv(carpeta + \"/\" + year + \" DVOA by Quarters and Halves Offense.csv\")\n",
    "  _quarterCurrentTeam = df_quarter.query('Team == \"' + currentTeam + '\"')\n",
    "  \n",
    "  df_quarter = pd.read_csv(carpeta + \"/\" + year + \" DVOA by Quarters and Halves Defense.csv\")\n",
    "  _quarterOpponent = df_quarter.query('Team == \"' + opponent + '\"')\n",
    "\n",
    "  df_down = pd.read_csv(carpeta + \"/\" + year + \" DVOA by Down and Distance Offense.csv\")\n",
    "  _downCurentTeam = df_down.query('Team == \"' + currentTeam + '\"')\n",
    "  \n",
    "  df_down = pd.read_csv(carpeta + \"/\" + year + \" DVOA by Down and Distance Defense.csv\")\n",
    "  _downOpponent = df_down.query('Team == \"' + opponent + '\"')\n",
    "\n",
    "  df_yard = pd.read_csv(carpeta + \"/\" + year + \" DVOA by Field Zone Offense.csv\")\n",
    "  _yardCurrentTeam = df_yard.query('Team == \"' + currentTeam + '\"')\n",
    "\n",
    "  df_yard = pd.read_csv(carpeta + \"/\" + year + \" DVOA by Field Zone Defense.csv\")\n",
    "  _yardOpponent = df_yard.query('Team == \"' + opponent + '\"')\n",
    "\n",
    "  df_DVOA = pd.read_csv(carpeta + \"/\" + year + \" Team DVOA Ratings Offense.csv\")\n",
    "  _DVOACurrentTeam = df_DVOA.query('Team == \"' + currentTeam + '\"')\n",
    "\n",
    "  df_DVOA = pd.read_csv(carpeta + \"/\" + year + \" Team DVOA Ratings Defense.csv\")\n",
    "  _DVOAOpponent = df_DVOA.query('Team == \"' + opponent + '\"')\n",
    "\n",
    "  return _DVOAOpponent\n",
    "\n"
   ]
  },
  {
   "cell_type": "code",
   "execution_count": 13,
   "metadata": {
    "tags": []
   },
   "outputs": [
    {
     "output_type": "execute_result",
     "data": {
      "text/plain": "   Team  Total DVOA Rank Total DVOA  Prev. Year Rank  Weighted DVOA Rank  \\\n18  DAL               19       3.0%                9                  21   \n\n   Weighted DVOA  Pass DVOA Rank Pass DVOA  Rush DVOA Rank Rush DVOA  \\\n18          3.6%              23     13.2%              15    -10.4%   \n\n   Unadjusted Total VOA Unadjusted Pass VOA Unadjusted Rush VOA  \\\n18                -1.8%                7.8%              -14.3%   \n\n    Variance Rank Variance  Schedule Rank Schedule  \n18             18     6.0%             28    -4.5%  ",
      "text/html": "<div>\n<style scoped>\n    .dataframe tbody tr th:only-of-type {\n        vertical-align: middle;\n    }\n\n    .dataframe tbody tr th {\n        vertical-align: top;\n    }\n\n    .dataframe thead th {\n        text-align: right;\n    }\n</style>\n<table border=\"1\" class=\"dataframe\">\n  <thead>\n    <tr style=\"text-align: right;\">\n      <th></th>\n      <th>Team</th>\n      <th>Total DVOA Rank</th>\n      <th>Total DVOA</th>\n      <th>Prev. Year Rank</th>\n      <th>Weighted DVOA Rank</th>\n      <th>Weighted DVOA</th>\n      <th>Pass DVOA Rank</th>\n      <th>Pass DVOA</th>\n      <th>Rush DVOA Rank</th>\n      <th>Rush DVOA</th>\n      <th>Unadjusted Total VOA</th>\n      <th>Unadjusted Pass VOA</th>\n      <th>Unadjusted Rush VOA</th>\n      <th>Variance Rank</th>\n      <th>Variance</th>\n      <th>Schedule Rank</th>\n      <th>Schedule</th>\n    </tr>\n  </thead>\n  <tbody>\n    <tr>\n      <th>18</th>\n      <td>DAL</td>\n      <td>19</td>\n      <td>3.0%</td>\n      <td>9</td>\n      <td>21</td>\n      <td>3.6%</td>\n      <td>23</td>\n      <td>13.2%</td>\n      <td>15</td>\n      <td>-10.4%</td>\n      <td>-1.8%</td>\n      <td>7.8%</td>\n      <td>-14.3%</td>\n      <td>18</td>\n      <td>6.0%</td>\n      <td>28</td>\n      <td>-4.5%</td>\n    </tr>\n  </tbody>\n</table>\n</div>"
     },
     "metadata": {},
     "execution_count": 13
    }
   ],
   "source": [
    "case = [{\n",
    "    \"scoregap\": '20', \n",
    "    \"quarter\": '4', \n",
    "    \"timeleft\": '7', \n",
    "    \"currentDown\": '2', \n",
    "    \"yardsLeft1stDown\": '6', \n",
    "    \"home\": '1', \n",
    "    \"currentYard\": '-40', \n",
    "    \"opponent\": 'DAL', \n",
    "    \"currentTeam\": 'DEN', \n",
    "    \"year\": '2019', \n",
    "    \"optional\": [{\n",
    "        \"success\": '1',\n",
    "        \"successFailReason\": 'Test',\n",
    "        \"avgDVOA\": '80'\n",
    "        }]\n",
    "    }]\n",
    "caseList = json.dumps(case)\n",
    "casesRetrieved = retrieve(caseList)\n",
    "casesRetrieved.head()"
   ]
  },
  {
   "cell_type": "code",
   "execution_count": 4,
   "metadata": {},
   "outputs": [
    {
     "output_type": "execute_result",
     "data": {
      "text/plain": "  Team  Losing Big Rank Losing Big  Tie/Losing Small Rank Tie/Losing Small  \\\n0  BAL                6      25.8%                      1            32.3%   \n1  DAL                5      29.1%                      9            12.1%   \n2   KC                2      45.8%                      3            21.8%   \n3   NO                3      40.4%                     11             6.0%   \n4  SEA               12      10.3%                      4            21.5%   \n\n   Winning Small Rank Winning Small  Winning Big Rank Winning Big  \\\n0                   6         24.4%                 4       26.2%   \n1                   1         43.3%                 3       28.5%   \n2                   5         25.5%                 7       18.8%   \n3                   4         26.7%                 2       32.8%   \n4                   2         36.4%                24      -15.7%   \n\n   Late & Close Rank Late & Close  Total DVOA Rank Total DVOA  \n0                 11         8.5%                1      27.7%  \n1                  1        44.6%                2      24.2%  \n2                  6        11.7%                3      22.8%  \n3                  3        26.6%                4      21.4%  \n4                  4        26.5%                5      17.1%  ",
      "text/html": "<div>\n<style scoped>\n    .dataframe tbody tr th:only-of-type {\n        vertical-align: middle;\n    }\n\n    .dataframe tbody tr th {\n        vertical-align: top;\n    }\n\n    .dataframe thead th {\n        text-align: right;\n    }\n</style>\n<table border=\"1\" class=\"dataframe\">\n  <thead>\n    <tr style=\"text-align: right;\">\n      <th></th>\n      <th>Team</th>\n      <th>Losing Big Rank</th>\n      <th>Losing Big</th>\n      <th>Tie/Losing Small Rank</th>\n      <th>Tie/Losing Small</th>\n      <th>Winning Small Rank</th>\n      <th>Winning Small</th>\n      <th>Winning Big Rank</th>\n      <th>Winning Big</th>\n      <th>Late &amp; Close Rank</th>\n      <th>Late &amp; Close</th>\n      <th>Total DVOA Rank</th>\n      <th>Total DVOA</th>\n    </tr>\n  </thead>\n  <tbody>\n    <tr>\n      <th>0</th>\n      <td>BAL</td>\n      <td>6</td>\n      <td>25.8%</td>\n      <td>1</td>\n      <td>32.3%</td>\n      <td>6</td>\n      <td>24.4%</td>\n      <td>4</td>\n      <td>26.2%</td>\n      <td>11</td>\n      <td>8.5%</td>\n      <td>1</td>\n      <td>27.7%</td>\n    </tr>\n    <tr>\n      <th>1</th>\n      <td>DAL</td>\n      <td>5</td>\n      <td>29.1%</td>\n      <td>9</td>\n      <td>12.1%</td>\n      <td>1</td>\n      <td>43.3%</td>\n      <td>3</td>\n      <td>28.5%</td>\n      <td>1</td>\n      <td>44.6%</td>\n      <td>2</td>\n      <td>24.2%</td>\n    </tr>\n    <tr>\n      <th>2</th>\n      <td>KC</td>\n      <td>2</td>\n      <td>45.8%</td>\n      <td>3</td>\n      <td>21.8%</td>\n      <td>5</td>\n      <td>25.5%</td>\n      <td>7</td>\n      <td>18.8%</td>\n      <td>6</td>\n      <td>11.7%</td>\n      <td>3</td>\n      <td>22.8%</td>\n    </tr>\n    <tr>\n      <th>3</th>\n      <td>NO</td>\n      <td>3</td>\n      <td>40.4%</td>\n      <td>11</td>\n      <td>6.0%</td>\n      <td>4</td>\n      <td>26.7%</td>\n      <td>2</td>\n      <td>32.8%</td>\n      <td>3</td>\n      <td>26.6%</td>\n      <td>4</td>\n      <td>21.4%</td>\n    </tr>\n    <tr>\n      <th>4</th>\n      <td>SEA</td>\n      <td>12</td>\n      <td>10.3%</td>\n      <td>4</td>\n      <td>21.5%</td>\n      <td>2</td>\n      <td>36.4%</td>\n      <td>24</td>\n      <td>-15.7%</td>\n      <td>4</td>\n      <td>26.5%</td>\n      <td>5</td>\n      <td>17.1%</td>\n    </tr>\n  </tbody>\n</table>\n</div>"
     },
     "metadata": {},
     "execution_count": 4
    }
   ],
   "source": [
    "df_2019 = pd.read_csv(\"/Users/mramosalarcon/Google Drive/Creatividad/DVOA 2019/2019 DVOA by Score Gap Offense.csv\")\n",
    "df_2019.head()"
   ]
  },
  {
   "cell_type": "code",
   "execution_count": 5,
   "metadata": {
    "tags": []
   },
   "outputs": [
    {
     "output_type": "execute_result",
     "data": {
      "text/plain": "   Team  Losing Big Rank Losing Big  Tie/Losing Small Rank Tie/Losing Small  \\\n25  DEN               24     -13.5%                     21            -6.0%   \n\n    Winning Small Rank Winning Small  Winning Big Rank Winning Big  \\\n25                  11          3.9%                31      -33.6%   \n\n    Late & Close Rank Late & Close  Total DVOA Rank Total DVOA  \n25                 19        -6.7%               26     -10.8%  ",
      "text/html": "<div>\n<style scoped>\n    .dataframe tbody tr th:only-of-type {\n        vertical-align: middle;\n    }\n\n    .dataframe tbody tr th {\n        vertical-align: top;\n    }\n\n    .dataframe thead th {\n        text-align: right;\n    }\n</style>\n<table border=\"1\" class=\"dataframe\">\n  <thead>\n    <tr style=\"text-align: right;\">\n      <th></th>\n      <th>Team</th>\n      <th>Losing Big Rank</th>\n      <th>Losing Big</th>\n      <th>Tie/Losing Small Rank</th>\n      <th>Tie/Losing Small</th>\n      <th>Winning Small Rank</th>\n      <th>Winning Small</th>\n      <th>Winning Big Rank</th>\n      <th>Winning Big</th>\n      <th>Late &amp; Close Rank</th>\n      <th>Late &amp; Close</th>\n      <th>Total DVOA Rank</th>\n      <th>Total DVOA</th>\n    </tr>\n  </thead>\n  <tbody>\n    <tr>\n      <th>25</th>\n      <td>DEN</td>\n      <td>24</td>\n      <td>-13.5%</td>\n      <td>21</td>\n      <td>-6.0%</td>\n      <td>11</td>\n      <td>3.9%</td>\n      <td>31</td>\n      <td>-33.6%</td>\n      <td>19</td>\n      <td>-6.7%</td>\n      <td>26</td>\n      <td>-10.8%</td>\n    </tr>\n  </tbody>\n</table>\n</div>"
     },
     "metadata": {},
     "execution_count": 5
    }
   ],
   "source": [
    "_offenseCurrentTeam = df_2019.query('Team == \"DEN\"')\n",
    "_offenseCurrentTeam.head()"
   ]
  },
  {
   "cell_type": "code",
   "execution_count": null,
   "metadata": {},
   "outputs": [],
   "source": []
  }
 ]
}